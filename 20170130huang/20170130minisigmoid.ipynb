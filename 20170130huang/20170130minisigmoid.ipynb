{
 "cells": [
  {
   "cell_type": "markdown",
   "metadata": {
    "toc": true
   },
   "source": [
    "<h1>Table of Contents<span class=\"tocSkip\"></span></h1>\n",
    "<div class=\"toc\"><ul class=\"toc-item\"><li><span><a href=\"#20170130minisigmoid\" data-toc-modified-id=\"20170130minisigmoid-1\"><span class=\"toc-item-num\">1&nbsp;&nbsp;</span>20170130minisigmoid</a></span><ul class=\"toc-item\"><li><span><a href=\"#models\" data-toc-modified-id=\"models-1.1\"><span class=\"toc-item-num\">1.1&nbsp;&nbsp;</span>models</a></span></li></ul></li></ul></div>"
   ]
  },
  {
   "cell_type": "markdown",
   "metadata": {},
   "source": [
    "# 20170130minisigmoid"
   ]
  },
  {
   "cell_type": "markdown",
   "metadata": {},
   "source": [
    "- CR：2186\n",
    "http://hmi.stanford.edu/data/synoptic.html\n",
    "\n",
    "- why the box display offset when read again\n",
    "- why can not find param1 in new folder,\n",
    "- why fff2m can not working in new folder\n"
   ]
  },
  {
   "cell_type": "code",
   "execution_count": null,
   "metadata": {
    "collapsed": true
   },
   "outputs": [],
   "source": [
    "IDL> synopt_read_los\n",
    "File LOS/hmi.Synoptic_Ml.2186.fits, B0=-5.24 deg"
   ]
  },
  {
   "cell_type": "code",
   "execution_count": null,
   "metadata": {
    "collapsed": true
   },
   "outputs": [],
   "source": [
    "304  -6  100\n",
    "193  -7  2000"
   ]
  },
  {
   "cell_type": "code",
   "execution_count": null,
   "metadata": {
    "collapsed": true
   },
   "outputs": [],
   "source": [
    "IDL> \n",
    "Default directory:  2012/07/12/ltmo/\n",
    "Select directory name:  \n",
    "Directory:     2012/07/12/ltmo/\n",
    "Read grid parameters: 2012/07/12/ltmo/param1\n",
    "Model date/time: 2017/01/30 12:36:00 UT\n",
    "Cells in global grid: glob_nlon= 360\n",
    "                      glob_nlat= 180\n",
    "Longitude spacing:      delt0=0.001000 rad\n",
    "Approx. ctr. longitude: lon0a=  -0.890 deg\n",
    "Approx. ctr. latitude:  lat0a=  -3.092 deg\n",
    "Number of boxes:        nbox=4\n",
    "Cells in box 0:         nx1base= 256\n",
    "                        ny1base= 192\n",
    "Cells in box 0:         nz1arr(0)= 40\n",
    "Cells in box 1:         nz1arr(1)= 30\n",
    "Cells in box 2:         nz1arr(2)= 30\n",
    "Cells in box 3:         nz1arr(3)= 40\n",
    "Region name: HMI level1\n",
    "lonmin=  -8.251 lon0=  -0.917 lonmax=   6.417 deg\n",
    "latmin=  -8.562 lat0=  -3.092 latmax=   2.406 deg\n",
    "n=0, nx= 257, ny= 193, nz=  41, kz2=  40, z=  40.0, rad= 1.041, naa=  2033641\n",
    "n=1, nx= 129, ny=  97, nz=  31, kz2=  71, z= 100.0, rad= 1.105, naa=   387903\n",
    "n=2, nx=  65, ny=  49, nz=  31, kz2= 102, z= 220.0, rad= 1.246, naa=    98735\n",
    "n=3, nx=  33, ny=  25, nz=  41, kz2= 143, z= 540.0, rad= 1.716, naa=    33825\n",
    "total:                 nz= 144                                  naa=  2554104\n",
    "Source surface: radmax=  1.716\n",
    "Read second parameter file: 2012/07/12/ltmo/param2\n",
    "Earth-based solar B-angle: bsun=  -5.913 deg\n",
    "Earth-based solar radius:  rsun= 974.010 arcsec\n",
    "Radius of chromosphere-corona TR:  rad_tr=1.00290 Rsun\n",
    "-----\n"
   ]
  },
  {
   "cell_type": "code",
   "execution_count": null,
   "metadata": {
    "collapsed": true
   },
   "outputs": [],
   "source": [
    "IDL> \n",
    "bmax= 730.151, blev= 516.294, 258.147, 129.074,  64.537,  32.268\n",
    "ftot=-2.226e+20 Mx, area= 2.366e+20 cm2, bzavg= -0.9407 G\n",
    "Give path option (0=new,1=file,2=tmp,3=quit): 2\n",
    "Number of filaments:  1\n",
    "Enter cavity base (min= 0,max=30,def= 0):  \n",
    "Enter cavity top  (min= 5,max=38,def=21):  11\n",
    "Parameters for filament #1:\n",
    "Note: minimum height-width= 0 cells\n",
    "      maximum height+width=11 cells\n",
    "Enter flux rope height and width:  5\n",
    "Enter flux rope height and width:  5\n",
    "Enter poloidal flux (in Mx/cm,def=0.0):  0\n",
    "Enter radius for starting point (box units, def=4.0):  2 \n",
    "n= 0 floc=-2.384e+19 Mx\n",
    "Initial axial flux in Mx:  (def=floc,q=quit)  1e20\n",
    "n= 0 fdst= 1.238e+20 fadd= 1.000e+20 faxi= 1.000e+20 Mx\n",
    "Enter radius for end point (box units, def=4.0):  2\n"
   ]
  },
  {
   "cell_type": "code",
   "execution_count": null,
   "metadata": {
    "collapsed": true
   },
   "outputs": [],
   "source": [
    "Total energy: ener_pot = 6.9546495e+29 erg\n",
    "Helicity:     heli_pot = 2.0600247e+40 Mx^2\n",
    "\n",
    "    \n",
    "    model1 1e20\n",
    "Total energy: ener_cor = 8.9778560e+29 erg\n",
    "              ener_pot = 6.9546495e+29 erg\n",
    "Free energy:  ener_free= 2.0232065e+29 erg\n",
    "Helicity:     heli_cor = 1.1254115e+40 Mx^2\n",
    "              heli_pot = 2.0600247e+40 Mx^2\n",
    "              heli_sub =-8.4986573e+37 Mx^2\n",
    "              heli_rel =-9.4311184e+39 Mx^2\n",
    "  \n",
    "    model2 1e19\n",
    "Total energy: ener_cor = 6.9639020e+29 erg\n",
    "              ener_pot = 6.9546495e+29 erg\n",
    "Free energy:  ener_free= 9.2524554e+26 erg\n",
    "Helicity:     heli_cor = 2.0155721e+40 Mx^2\n",
    "              heli_pot = 2.0600247e+40 Mx^2\n",
    "              heli_sub =-8.9201792e+36 Mx^2\n",
    "              heli_rel =-4.5344581e+38 Mx^2\n",
    "\n",
    "    model3 1e19                \n",
    "Total energy: ener_cor = 6.9663152e+29 erg\n",
    "              ener_pot = 6.9546495e+29 erg\n",
    "Free energy:  ener_free= 1.1665651e+27 erg\n",
    "Helicity:     heli_cor = 2.1006525e+40 Mx^2\n",
    "              heli_pot = 2.0600247e+40 Mx^2\n",
    "              heli_sub = 7.6345129e+36 Mx^2\n",
    "              heli_rel = 4.1391253e+38 Mx^2\n",
    "\n",
    "    model4 1e20                \n",
    "Total energy: ener_cor = 7.3432022e+29 erg\n",
    "              ener_pot = 6.9546495e+29 erg\n",
    "Free energy:  ener_free= 3.8855267e+28 erg\n",
    "Helicity:     heli_cor = 2.4027709e+40 Mx^2\n",
    "              heli_pot = 2.0600247e+40 Mx^2\n",
    "              heli_sub = 7.7013945e+37 Mx^2\n",
    "              heli_rel = 3.5044757e+39 Mx^2\n",
    "\n",
    "    model5 5e19                \n",
    "Total energy: ener_cor = 7.2038547e+29 erg\n",
    "              ener_pot = 6.9546495e+29 erg\n",
    "Free energy:  ener_free= 2.4920517e+28 erg\n",
    "Helicity:     heli_cor = 2.2771355e+40 Mx^2\n",
    "              heli_pot = 2.0600247e+40 Mx^2\n",
    "              heli_sub = 3.8214929e+37 Mx^2\n",
    "              heli_rel = 2.2093232e+39 Mx^2\n",
    "\n",
    "    model6 8e19                \n",
    "Total energy: ener_cor = 7.3015556e+29 erg\n",
    "              ener_pot = 6.9546495e+29 erg\n",
    "Free energy:  ener_free= 3.4690607e+28 erg\n",
    "Helicity:     heli_cor = 2.3693572e+40 Mx^2\n",
    "              heli_pot = 2.0600247e+40 Mx^2\n",
    "              heli_sub = 6.1437115e+37 Mx^2\n",
    "              heli_rel = 3.1547622e+39 Mx^2\n",
    "\n",
    "    model7 3e19                \n",
    "Total energy: ener_cor = 7.0796568e+29 erg\n",
    "              ener_pot = 6.9546495e+29 erg\n",
    "Free energy:  ener_free= 1.2500725e+28 erg\n",
    "Helicity:     heli_cor = 2.1913399e+40 Mx^2\n",
    "              heli_pot = 2.0600247e+40 Mx^2\n",
    "              heli_sub = 2.2811921e+37 Mx^2\n",
    "              heli_rel = 1.3359643e+39 Mx^2\n",
    "\n",
    "    model8 2e20                \n",
    "Total energy: ener_cor = 7.4836590e+29 erg\n",
    "              ener_pot = 6.9546495e+29 erg\n",
    "Free energy:  ener_free= 5.2900951e+28 erg\n",
    "Helicity:     heli_cor = 2.2666710e+40 Mx^2\n",
    "              heli_pot = 2.0600247e+40 Mx^2\n",
    "              heli_sub = 1.5591839e+38 Mx^2\n",
    "              heli_rel = 2.2223817e+39 Mx^2\n",
    "                "
   ]
  },
  {
   "cell_type": "code",
   "execution_count": null,
   "metadata": {
    "collapsed": true
   },
   "outputs": [],
   "source": [
    "2D control:\n",
    "    path2\n",
    "    kz=80\n",
    "    contours,max=1000\n",
    "    vect,max=0.1\n",
    "    "
   ]
  },
  {
   "cell_type": "code",
   "execution_count": null,
   "metadata": {
    "collapsed": true
   },
   "outputs": [],
   "source": [
    "Export simple grid \n",
    "256,192,540\n",
    "0,0"
   ]
  },
  {
   "cell_type": "code",
   "execution_count": null,
   "metadata": {
    "collapsed": true
   },
   "outputs": [],
   "source": [
    "model3 1e19 \n",
    "model4 1e20\n",
    "model5 5e19  \n",
    "model6 8e19  \n",
    "model7 3e19 "
   ]
  },
  {
   "cell_type": "code",
   "execution_count": null,
   "metadata": {
    "collapsed": true
   },
   "outputs": [],
   "source": [
    "hmi.M_720s[2017.01.28_20:00_TAI/30s] \n",
    "hmi.M_720s[2017.01.29_00:00_TAI/30s] "
   ]
  },
  {
   "cell_type": "code",
   "execution_count": null,
   "metadata": {
    "collapsed": true
   },
   "outputs": [],
   "source": [
    "model9  2e19\n",
    "10  6e19\n",
    "11  10e19\n",
    "\n",
    "./fff2m <model9_20170130_1236.dat> model9_20170130_1236.txt &     \n"
   ]
  },
  {
   "cell_type": "code",
   "execution_count": null,
   "metadata": {
    "collapsed": true
   },
   "outputs": [],
   "source": [
    "model9  2e19  28-2000\n",
    "10  6e19    29-2000\n",
    "11  10e19    30-1132\n",
    "\n",
    "9  \n",
    "Total energy: ener_cor = 6.0811484e+29 erg\n",
    "Helicity:     heli_cor = 1.8284972e+40 Mx^2\n",
    "    \n",
    "10    \n",
    "Total energy: ener_cor = 7.2540918e+29 erg\n",
    "Helicity:     heli_cor = 2.3621329e+40 Mx^2\n",
    "    \n",
    "11    \n",
    "Total energy: ener_cor = 7.4985259e+29 erg\n",
    "Helicity:     heli_cor = 2.4628120e+40 Mx^2\n",
    "\n",
    "\n",
    "12  1e19  28-2000\n",
    "Total energy: ener_cor = 6.0074089e+29 erg\n",
    "Helicity:     heli_cor = 1.7830260e+40 Mx^2\n",
    "\n",
    "\n",
    "13  5e18  28-2000\n",
    "Total energy: ener_cor = 5.9901894e+29 erg\n",
    "Helicity:     heli_cor = 1.7616233e+40 Mx^2\n",
    "\n",
    "\n",
    "14  4e19    29-2000\n",
    "Total energy: ener_cor = 7.1022038e+29 erg\n",
    "Helicity:     heli_cor = 2.2618334e+40 Mx^2\n",
    "    \n",
    "\n",
    "15  2e19    29-2000\n",
    "Total energy: ener_cor = 6.9227289e+29 erg\n",
    "Helicity:     heli_cor = 2.1499570e+40 Mx^2"
   ]
  },
  {
   "cell_type": "markdown",
   "metadata": {
    "collapsed": true
   },
   "source": [
    "## models\n",
    "time--model no.--axial flux\n",
    "20170130-123600\n",
    "model3 1e19 \n",
    "model4 1e20\n",
    "model5 5e19  \n",
    "model6 8e19  \n",
    "model7 3e19 \n",
    "20170128-2000\n",
    "model9  2e19  \n",
    "model12  1e19  \n",
    "model13  5e18  \n",
    "20170129-2000\n",
    "model10  6e19    \n",
    "model14  4e19    \n",
    "model15  2e19    \n",
    "20170130-1132\n",
    "model11  10e19    \n",
    "\n"
   ]
  }
 ],
 "metadata": {
  "kernelspec": {
   "display_name": "Python 3",
   "language": "python",
   "name": "python3"
  },
  "language_info": {
   "codemirror_mode": {
    "name": "ipython",
    "version": 3
   },
   "file_extension": ".py",
   "mimetype": "text/x-python",
   "name": "python",
   "nbconvert_exporter": "python",
   "pygments_lexer": "ipython3",
   "version": "3.6.3"
  },
  "latex_envs": {
   "LaTeX_envs_menu_present": true,
   "autoclose": false,
   "autocomplete": true,
   "bibliofile": "biblio.bib",
   "cite_by": "apalike",
   "current_citInitial": 1,
   "eqLabelWithNumbers": true,
   "eqNumInitial": 1,
   "hotkeys": {
    "equation": "Ctrl-E",
    "itemize": "Ctrl-I"
   },
   "labels_anchors": false,
   "latex_user_defs": false,
   "report_style_numbering": false,
   "user_envs_cfg": false
  },
  "nbTranslate": {
   "displayLangs": [
    ""
   ],
   "hotkey": "alt-t",
   "langInMainMenu": true,
   "sourceLang": "Chinese Sim",
   "targetLang": "",
   "useGoogleTranslate": true
  },
  "toc": {
   "base_numbering": 1,
   "nav_menu": {},
   "number_sections": true,
   "sideBar": true,
   "skip_h1_title": false,
   "title_cell": "Table of Contents",
   "title_sidebar": "Contents",
   "toc_cell": true,
   "toc_position": {},
   "toc_section_display": "block",
   "toc_window_display": true
  }
 },
 "nbformat": 4,
 "nbformat_minor": 2
}
