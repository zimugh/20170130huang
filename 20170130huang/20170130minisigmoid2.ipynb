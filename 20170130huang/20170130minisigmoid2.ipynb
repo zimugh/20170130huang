{
 "cells": [
  {
   "cell_type": "markdown",
   "metadata": {
    "toc": true
   },
   "source": [
    "<h1>Table of Contents<span class=\"tocSkip\"></span></h1>\n",
    "<div class=\"toc\"><ul class=\"toc-item\"><li><span><a href=\"#Position\" data-toc-modified-id=\"Position-1\"><span class=\"toc-item-num\">1&nbsp;&nbsp;</span>Position</a></span></li><li><span><a href=\"#path\" data-toc-modified-id=\"path-2\"><span class=\"toc-item-num\">2&nbsp;&nbsp;</span>path</a></span></li><li><span><a href=\"#all-the-models\" data-toc-modified-id=\"all-the-models-3\"><span class=\"toc-item-num\">3&nbsp;&nbsp;</span>all the models</a></span></li><li><span><a href=\"#model-show\" data-toc-modified-id=\"model-show-4\"><span class=\"toc-item-num\">4&nbsp;&nbsp;</span>model show</a></span></li><li><span><a href=\"#models-&amp;-observations\" data-toc-modified-id=\"models-&amp;-observations-5\"><span class=\"toc-item-num\">5&nbsp;&nbsp;</span>models &amp; observations</a></span></li><li><span><a href=\"#model5:marginally-unstable\" data-toc-modified-id=\"model5:marginally-unstable-6\"><span class=\"toc-item-num\">6&nbsp;&nbsp;</span>model5:marginally unstable</a></span></li></ul></div>"
   ]
  },
  {
   "cell_type": "markdown",
   "metadata": {},
   "source": [
    "## Position\n",
    "- data directory:/home/zm/work/CMS"
   ]
  },
  {
   "cell_type": "markdown",
   "metadata": {},
   "source": [
    "![magn_phot.png](magn_phot.png)"
   ]
  },
  {
   "cell_type": "markdown",
   "metadata": {},
   "source": [
    "## path"
   ]
  },
  {
   "cell_type": "markdown",
   "metadata": {},
   "source": [
    "![model_path2.png](model_path2.png)"
   ]
  },
  {
   "cell_type": "markdown",
   "metadata": {},
   "source": [
    "## all the models\n",
    "********\n",
    "We build models of four different times list below, we think axial flux= 10e19 models become marginally unstable. \n",
    "********\n",
    "time--model no.--axial flux\n",
    "- 20170130-123600\n",
    "\n",
    "        model3 1e19 \n",
    "        model4 10e19\n",
    "        model5 5e19  \n",
    "        model6 8e19  \n",
    "        model7 3e19 \n",
    "- 20170128-200000\n",
    "\n",
    "        model9  2e19  \n",
    "        model12  1e19  \n",
    "        model13  5e18  \n",
    "- 20170129-200000\n",
    "\n",
    "        model10  6e19    \n",
    "        model14  4e19    \n",
    "        model15  2e19    \n",
    "- 20170130-113200\n",
    "\n",
    "        model11  10e19   "
   ]
  },
  {
   "cell_type": "markdown",
   "metadata": {},
   "source": [
    "## model show\n",
    "*********\n",
    "model no. has been rearranged.\n",
    "*********\n",
    "- Background：AIA193+HMI-LOS\n",
    "- potential field\n",
    "- model1 1e19  \n",
    "- model2 3e19 \n",
    "- model3 5e19  \n",
    "- model4 8e19 \n",
    "- model5 10e19"
   ]
  },
  {
   "cell_type": "markdown",
   "metadata": {},
   "source": [
    "## models & observations\n",
    "![model_evol1.png](model_evol1.png)\n",
    "![model_evol1.1.png](model_evol1.1.png)"
   ]
  },
  {
   "cell_type": "markdown",
   "metadata": {
    "collapsed": true
   },
   "source": [
    "## model5:marginally unstable\n",
    "![](evol1)\n",
    "![](stru1)"
   ]
  },
  {
   "cell_type": "code",
   "execution_count": null,
   "metadata": {},
   "outputs": [],
   "source": []
  }
 ],
 "metadata": {
  "kernelspec": {
   "display_name": "Python 3",
   "language": "python",
   "name": "python3"
  },
  "language_info": {
   "codemirror_mode": {
    "name": "ipython",
    "version": 3
   },
   "file_extension": ".py",
   "mimetype": "text/x-python",
   "name": "python",
   "nbconvert_exporter": "python",
   "pygments_lexer": "ipython3",
   "version": "3.6.3"
  },
  "latex_envs": {
   "LaTeX_envs_menu_present": true,
   "autoclose": false,
   "autocomplete": true,
   "bibliofile": "biblio.bib",
   "cite_by": "apalike",
   "current_citInitial": 1,
   "eqLabelWithNumbers": true,
   "eqNumInitial": 1,
   "hotkeys": {
    "equation": "Ctrl-E",
    "itemize": "Ctrl-I"
   },
   "labels_anchors": false,
   "latex_user_defs": false,
   "report_style_numbering": false,
   "user_envs_cfg": false
  },
  "nbTranslate": {
   "displayLangs": [
    ""
   ],
   "hotkey": "alt-t",
   "langInMainMenu": true,
   "sourceLang": "Chinese Sim",
   "targetLang": "",
   "useGoogleTranslate": true
  },
  "toc": {
   "base_numbering": 1,
   "nav_menu": {},
   "number_sections": true,
   "sideBar": true,
   "skip_h1_title": false,
   "title_cell": "Table of Contents",
   "title_sidebar": "Contents",
   "toc_cell": true,
   "toc_position": {},
   "toc_section_display": "block",
   "toc_window_display": true
  }
 },
 "nbformat": 4,
 "nbformat_minor": 2
}
